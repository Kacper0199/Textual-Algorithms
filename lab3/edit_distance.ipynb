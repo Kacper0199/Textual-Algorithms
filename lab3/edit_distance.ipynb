{
 "cells": [
  {
   "cell_type": "code",
   "execution_count": 1,
   "metadata": {},
   "outputs": [
    {
     "name": "stderr",
     "output_type": "stream",
     "text": [
      "[nltk_data] Downloading package punkt to\n",
      "[nltk_data]     C:\\Users\\Legion\\AppData\\Roaming\\nltk_data...\n",
      "[nltk_data]   Package punkt is already up-to-date!\n"
     ]
    },
    {
     "data": {
      "text/plain": [
       "True"
      ]
     },
     "execution_count": 1,
     "metadata": {},
     "output_type": "execute_result"
    }
   ],
   "source": [
    "import random\n",
    "import numpy as np\n",
    "from copy import deepcopy\n",
    "import nltk\n",
    "nltk.download(\"punkt\")"
   ]
  },
  {
   "cell_type": "markdown",
   "metadata": {},
   "source": [
    "1. Zaimplementuj algorytm obliczania odległości edycyjnej w taki sposób, aby możliwe było określenie przynajmniej jednej sekwencji edycji (dodanie, usunięcie, zmiana znaku), która pozwala w minimalnej liczbie kroków, przekształcić jeden łańcuch w drugi."
   ]
  },
  {
   "cell_type": "code",
   "execution_count": 2,
   "metadata": {},
   "outputs": [],
   "source": [
    "def levenshtein_matrix_dist(seq1, seq2):\n",
    "    size_x = len(seq1) + 1\n",
    "    size_y = len(seq2) + 1\n",
    "    matrix = np.zeros((size_x, size_y))\n",
    "    for x in range(size_x):\n",
    "        matrix[x, 0] = x\n",
    "        \n",
    "    for y in range(size_y):\n",
    "        matrix[0, y] = y\n",
    "    \n",
    "    for x in range(1, size_x):\n",
    "        for y in range(1, size_y):\n",
    "            if seq1[x-1] == seq2[y-1]:\n",
    "                matrix [x,y] = min(matrix[x-1, y] + 1, matrix[x-1, y-1], matrix[x, y-1] + 1)\n",
    "                \n",
    "            else:\n",
    "                matrix [x,y] = min(\n",
    "                    matrix[x-1,y] + 1,\n",
    "                    matrix[x-1,y-1] + 1,\n",
    "                    matrix[x,y-1] + 1)\n",
    "                \n",
    "    result = int(matrix[size_x - 1, size_y - 1])\n",
    "    \n",
    "    return int(matrix[-1][-1]), matrix"
   ]
  },
  {
   "cell_type": "code",
   "execution_count": 3,
   "metadata": {},
   "outputs": [
    {
     "data": {
      "text/plain": [
       "(2,\n",
       " array([[0., 1., 2., 3., 4.],\n",
       "        [1., 1., 1., 2., 3.],\n",
       "        [2., 2., 2., 1., 2.],\n",
       "        [3., 3., 3., 2., 2.]]))"
      ]
     },
     "execution_count": 3,
     "metadata": {},
     "output_type": "execute_result"
    }
   ],
   "source": [
    "levenshtein_matrix_dist(\"los\", \"kloc\")"
   ]
  },
  {
   "cell_type": "markdown",
   "metadata": {},
   "source": [
    "2. Na podstawie poprzedniego punktu zaimplementuj prostą wizualizację działania algorytmu, poprzez wskazanie kolejnych wersji pierwszego łańcucha, w których dokonywana jest określona zmiana. \"Wizualizacja\" może działać w trybie tekstowym."
   ]
  },
  {
   "cell_type": "code",
   "execution_count": 4,
   "metadata": {},
   "outputs": [],
   "source": [
    "def visualisation(seq1, seq2):\n",
    "    size_x = len(seq1)\n",
    "    size_y = len(seq2)\n",
    "    matrix = levenshtein_matrix_dist(seq1, seq2)[1]\n",
    "    d = {\"change\": [],\n",
    "         \"idx\": []}\n",
    "    \n",
    "    i = size_x\n",
    "    j = size_y\n",
    "    while i > 0 or j > 0:\n",
    "        n = matrix[i][j]\n",
    "        if matrix[i][j-1]+1 == n:\n",
    "            d[\"change\"].append(\"dodawanie\")\n",
    "            j -= 1\n",
    "        elif matrix[i-1][j]+1 == n:\n",
    "            d[\"change\"].append(\"usuwanie\")\n",
    "            i -= 1\n",
    "        elif matrix[i-1][j-1] == n:\n",
    "            d[\"change\"].append(\"-\")\n",
    "            i -= 1\n",
    "            j -= 1\n",
    "        else:\n",
    "            d[\"change\"].append(\"zamienianie\")\n",
    "            i -= 1\n",
    "            j -= 1\n",
    "            \n",
    "        d[\"idx\"].append(j)\n",
    "    \n",
    "    d[\"change\"].reverse()\n",
    "    d[\"idx\"].reverse()\n",
    "    \n",
    "    i = 0\n",
    "    j = 0\n",
    "    print(seq1)\n",
    "    for change, idx in zip(d[\"change\"], d[\"idx\"]):\n",
    "        if change == \"dodawanie\":\n",
    "            print(f\"{seq1[:j]}*{seq2[j]}*{seq1[j:]}  (dodanie litery {seq2[j]})\")\n",
    "            seq1 = seq1[:j] + seq2[j] + seq1[j:]\n",
    "        elif change == \"usuwanie\":\n",
    "            print(f\"{seq1[:i]}-{seq1[i+1:]} (usunięcie litery {seq1[i]})\")\n",
    "            seq1 = seq1[:i] + seq1[i+1:]\n",
    "            continue\n",
    "        elif change == \"zamienianie\":\n",
    "            print(f\"{seq1[:i]}*{seq2[j]}*{seq1[i+1:]} (zamiana liter {seq1[i]}->{seq2[j]})\")\n",
    "            seq1 = seq1[:j] + seq2[j] + seq1[j+1:]\n",
    "        i += 1\n",
    "        j += 1\n",
    "    print(seq1)"
   ]
  },
  {
   "cell_type": "markdown",
   "metadata": {},
   "source": [
    "3. Przedstaw wynik działania algorytmu z p. 2 dla następujących par łańcuchów:\n",
    "los - kloc;\n",
    "Łódź - Lodz;\n",
    "kwintesencja - quintessence;\n",
    "ATGAATCTTACCGCCTCG - ATGAGGCTCTGGCCCCTG."
   ]
  },
  {
   "cell_type": "code",
   "execution_count": 5,
   "metadata": {},
   "outputs": [
    {
     "name": "stdout",
     "output_type": "stream",
     "text": [
      "los\n",
      "*k*los  (dodanie litery k)\n",
      "klo*c* (zamiana liter s->c)\n",
      "kloc\n"
     ]
    }
   ],
   "source": [
    "visualisation(\"los\", \"kloc\")"
   ]
  },
  {
   "cell_type": "code",
   "execution_count": 6,
   "metadata": {},
   "outputs": [
    {
     "name": "stdout",
     "output_type": "stream",
     "text": [
      "Łódź\n",
      "*L*ódź (zamiana liter Ł->L)\n",
      "L*o*dź (zamiana liter ó->o)\n",
      "Lod*z* (zamiana liter ź->z)\n",
      "Lodz\n"
     ]
    }
   ],
   "source": [
    "visualisation(\"Łódź\", \"Lodz\")"
   ]
  },
  {
   "cell_type": "code",
   "execution_count": 7,
   "metadata": {},
   "outputs": [
    {
     "name": "stdout",
     "output_type": "stream",
     "text": [
      "kwintesencja\n",
      "*q*wintesencja (zamiana liter k->q)\n",
      "q*u*intesencja (zamiana liter w->u)\n",
      "quintes*s*encja  (dodanie litery s)\n",
      "quintessenc*e*a (zamiana liter j->e)\n",
      "quintessence- (usunięcie litery a)\n",
      "quintessence\n"
     ]
    }
   ],
   "source": [
    "visualisation(\"kwintesencja\", \"quintessence\")"
   ]
  },
  {
   "cell_type": "code",
   "execution_count": 8,
   "metadata": {},
   "outputs": [
    {
     "name": "stdout",
     "output_type": "stream",
     "text": [
      "ATGAATCTTACCGCCTCG\n",
      "ATGA*G*TCTTACCGCCTCG (zamiana liter A->G)\n",
      "ATGAG*G*CTTACCGCCTCG (zamiana liter T->G)\n",
      "ATGAGGCT*C*TACCGCCTCG  (dodanie litery C)\n",
      "ATGAGGCTCT*G*CCGCCTCG (zamiana liter A->G)\n",
      "ATGAGGCTCTG*G*CCGCCTCG  (dodanie litery G)\n",
      "ATGAGGCTCTGGCC-CCTCG (usunięcie litery G)\n",
      "ATGAGGCTCTGGCCCCT-G (usunięcie litery C)\n",
      "ATGAGGCTCTGGCCCCTG\n"
     ]
    }
   ],
   "source": [
    "visualisation(\"ATGAATCTTACCGCCTCG\", \"ATGAGGCTCTGGCCCCTG\")"
   ]
  },
  {
   "cell_type": "markdown",
   "metadata": {},
   "source": [
    "4. Zaimplementuj algorytm obliczania najdłuższego wspólnego podciągu dla pary ciągów elementów"
   ]
  },
  {
   "cell_type": "markdown",
   "metadata": {},
   "source": [
    " - LCS"
   ]
  },
  {
   "cell_type": "code",
   "execution_count": 9,
   "metadata": {},
   "outputs": [],
   "source": [
    "def longest_sub(seq1, seq2):\n",
    "    m, n = len(seq1), len(seq2)\n",
    "    dp = [[0] * (n+1) for _ in range(m+1)]\n",
    "\n",
    "    for i in range(1, m+1):\n",
    "        for j in range(1, n+1):\n",
    "            if seq1[i-1] == seq2[j-1]:\n",
    "                dp[i][j] = dp[i-1][j-1] + 1\n",
    "            else:\n",
    "                dp[i][j] = max(dp[i-1][j], dp[i][j-1])\n",
    "\n",
    "    lcs = []\n",
    "    i, j = m, n\n",
    "    while i > 0 and j > 0:\n",
    "        if seq1[i-1] == seq2[j-1]:\n",
    "            lcs.append((i-1, j-1, seq1[i-1]))\n",
    "            i -= 1\n",
    "            j -= 1\n",
    "        elif dp[i-1][j] > dp[i][j-1]:\n",
    "            i -= 1\n",
    "        else:\n",
    "            j -= 1\n",
    "\n",
    "    lcs.reverse()\n",
    "    \n",
    "    return len(lcs)"
   ]
  },
  {
   "cell_type": "code",
   "execution_count": 10,
   "metadata": {},
   "outputs": [
    {
     "name": "stdout",
     "output_type": "stream",
     "text": [
      "6\n"
     ]
    }
   ],
   "source": [
    "print(longest_sub(\"matematyka\", \"informatyka\"))"
   ]
  },
  {
   "cell_type": "code",
   "execution_count": 11,
   "metadata": {},
   "outputs": [
    {
     "name": "stdout",
     "output_type": "stream",
     "text": [
      "4\n"
     ]
    }
   ],
   "source": [
    "print(longest_sub(\"banan\", \"ananas\"))"
   ]
  },
  {
   "cell_type": "code",
   "execution_count": 12,
   "metadata": {},
   "outputs": [
    {
     "name": "stdout",
     "output_type": "stream",
     "text": [
      "2\n"
     ]
    }
   ],
   "source": [
    "print(longest_sub(\"los\", \"kloc\"))"
   ]
  },
  {
   "cell_type": "markdown",
   "metadata": {},
   "source": [
    "- Levenshtein"
   ]
  },
  {
   "cell_type": "code",
   "execution_count": 13,
   "metadata": {},
   "outputs": [],
   "source": [
    "def levenshtein(seq1, seq2):\n",
    "    size_x = len(seq1) + 1\n",
    "    size_y = len(seq2) + 1\n",
    "    matrix = np.zeros((size_x, size_y))\n",
    "    for x in range(size_x):\n",
    "        matrix[x, 0] = x\n",
    "        \n",
    "    for y in range(size_y):\n",
    "        matrix[0, y] = y\n",
    "    \n",
    "    for x in range(1, size_x):\n",
    "        for y in range(1, size_y):\n",
    "            if seq1[x-1] == seq2[y-1]:\n",
    "                matrix [x,y] = min(matrix[x-1, y] + 1, matrix[x-1, y-1], matrix[x, y-1] + 1)\n",
    "                \n",
    "            else:\n",
    "                matrix [x,y] = min(\n",
    "                    matrix[x-1,y] + 1,\n",
    "                    matrix[x-1,y-1] + 1,\n",
    "                    matrix[x,y-1] + 1)\n",
    "                \n",
    "    result = int(matrix[size_x - 1, size_y - 1])\n",
    "    print(matrix)\n",
    "    \n",
    "    return result"
   ]
  },
  {
   "cell_type": "code",
   "execution_count": 14,
   "metadata": {},
   "outputs": [
    {
     "name": "stdout",
     "output_type": "stream",
     "text": [
      "[[0. 1. 2. 3. 4. 5. 6. 7. 8.]\n",
      " [1. 1. 2. 3. 3. 4. 5. 6. 7.]\n",
      " [2. 2. 1. 2. 3. 4. 5. 6. 7.]\n",
      " [3. 3. 2. 1. 2. 3. 4. 5. 6.]\n",
      " [4. 3. 3. 2. 2. 3. 4. 5. 6.]\n",
      " [5. 4. 4. 3. 3. 2. 3. 4. 5.]\n",
      " [6. 5. 5. 4. 4. 3. 2. 3. 4.]\n",
      " [7. 6. 6. 5. 5. 4. 3. 2. 3.]\n",
      " [8. 7. 7. 6. 6. 5. 4. 3. 2.]]\n",
      "2\n"
     ]
    }
   ],
   "source": [
    "print(levenshtein(\"wersacja\", \"serwacja\"))"
   ]
  },
  {
   "cell_type": "code",
   "execution_count": 15,
   "metadata": {},
   "outputs": [
    {
     "name": "stdout",
     "output_type": "stream",
     "text": [
      "[[ 0.  1.  2.  3.  4.  5.  6.  7.  8.  9. 10. 11.]\n",
      " [ 1.  1.  2.  3.  4.  5.  5.  6.  7.  8.  9. 10.]\n",
      " [ 2.  2.  2.  3.  4.  5.  6.  5.  6.  7.  8.  9.]\n",
      " [ 3.  3.  3.  3.  4.  5.  6.  6.  5.  6.  7.  8.]\n",
      " [ 4.  4.  4.  4.  4.  5.  6.  7.  6.  6.  7.  8.]\n",
      " [ 5.  5.  5.  5.  5.  5.  5.  6.  7.  7.  7.  8.]\n",
      " [ 6.  6.  6.  6.  6.  6.  6.  5.  6.  7.  8.  7.]\n",
      " [ 7.  7.  7.  7.  7.  7.  7.  6.  5.  6.  7.  8.]\n",
      " [ 8.  8.  8.  8.  8.  8.  8.  7.  6.  5.  6.  7.]\n",
      " [ 9.  9.  9.  9.  9.  9.  9.  8.  7.  6.  5.  6.]\n",
      " [10. 10. 10. 10. 10. 10. 10.  9.  8.  7.  6.  5.]]\n",
      "5\n"
     ]
    }
   ],
   "source": [
    "print(levenshtein(\"matematyka\", \"informatyka\"))"
   ]
  },
  {
   "cell_type": "code",
   "execution_count": 16,
   "metadata": {},
   "outputs": [
    {
     "name": "stdout",
     "output_type": "stream",
     "text": [
      "[[0. 1. 2. 3. 4. 5. 6.]\n",
      " [1. 1. 2. 3. 4. 5. 6.]\n",
      " [2. 1. 2. 2. 3. 4. 5.]\n",
      " [3. 2. 1. 2. 2. 3. 4.]\n",
      " [4. 3. 2. 1. 2. 2. 3.]\n",
      " [5. 4. 3. 2. 1. 2. 3.]]\n",
      "3\n"
     ]
    }
   ],
   "source": [
    "print(levenshtein(\"banan\", \"ananas\"))"
   ]
  },
  {
   "cell_type": "code",
   "execution_count": 17,
   "metadata": {},
   "outputs": [
    {
     "name": "stdout",
     "output_type": "stream",
     "text": [
      "[[0. 1. 2. 3. 4.]\n",
      " [1. 1. 1. 2. 3.]\n",
      " [2. 2. 2. 1. 2.]\n",
      " [3. 3. 3. 2. 2.]]\n",
      "2\n"
     ]
    }
   ],
   "source": [
    "print(levenshtein(\"los\", \"kloc\"))"
   ]
  },
  {
   "cell_type": "markdown",
   "metadata": {},
   "source": [
    "5. Korzystając z gotowego tokenizera dokonaj podziału załączonego tekstu na tokeny."
   ]
  },
  {
   "cell_type": "code",
   "execution_count": 18,
   "metadata": {},
   "outputs": [],
   "source": [
    "with open(\"romeo-i-julia-700.txt\", encoding=\"utf-8\") as f:\n",
    "        text = f.read()"
   ]
  },
  {
   "cell_type": "code",
   "execution_count": 19,
   "metadata": {},
   "outputs": [],
   "source": [
    "text_list = text.split('\\n')\n",
    "token_list = []\n",
    "n_tokens = 0\n",
    "n_lines = 0\n",
    "\n",
    "for text in text_list:\n",
    "    new_tokens = nltk.word_tokenize(text)\n",
    "    token_list.append(new_tokens)\n",
    "    n_tokens += len(new_tokens)\n",
    "    n_lines += 1"
   ]
  },
  {
   "cell_type": "code",
   "execution_count": 20,
   "metadata": {
    "scrolled": true
   },
   "outputs": [
    {
     "name": "stdout",
     "output_type": "stream",
     "text": [
      "Ilość tokenów w analizowanym tekście: 2290\n"
     ]
    }
   ],
   "source": [
    "print(f\"Ilość tokenów w analizowanym tekście: {n_tokens}\")"
   ]
  },
  {
   "cell_type": "markdown",
   "metadata": {},
   "source": [
    "6. Stwórz 2 wersje załączonego tekstu, w których usunięto 3% losowych tokenów."
   ]
  },
  {
   "cell_type": "code",
   "execution_count": 21,
   "metadata": {},
   "outputs": [],
   "source": [
    "def del_3percent(text_tokens):\n",
    "    tkns = deepcopy(text_tokens)\n",
    "    tkns_all = []\n",
    "    cnt_del = 0\n",
    "    while cnt_del < int(n_tokens*0.03):\n",
    "        i = random.randint(0, n_lines-1)\n",
    "        line = tkns[i]\n",
    "        if len(line) > 0:\n",
    "            j = random.randint(0, len(line)-1)\n",
    "        else:\n",
    "            continue\n",
    "        tkns[i].remove(tkns[i][j])\n",
    "        cnt_del += 1\n",
    "        \n",
    "    for line in tkns:\n",
    "        if len(line) > 0:\n",
    "            tkns_all.extend(line)\n",
    "    \n",
    "    return tkns, tkns_all"
   ]
  },
  {
   "cell_type": "code",
   "execution_count": 22,
   "metadata": {},
   "outputs": [
    {
     "name": "stdout",
     "output_type": "stream",
     "text": [
      "Ilość tokenów po usunięciu 3%: 2222\n"
     ]
    }
   ],
   "source": [
    "token_list1, tokens_all1 = del_3percent(token_list)\n",
    "print(f\"Ilość tokenów po usunięciu 3%: {len(tokens_all1)}\")"
   ]
  },
  {
   "cell_type": "code",
   "execution_count": 23,
   "metadata": {},
   "outputs": [
    {
     "name": "stdout",
     "output_type": "stream",
     "text": [
      "Ilość tokenów po usunięciu 3%: 2222\n"
     ]
    }
   ],
   "source": [
    "token_list2, tokens_all2 = del_3percent(token_list)\n",
    "print(f\"Ilość tokenów po usunięciu 3%: {len(tokens_all2)}\")"
   ]
  },
  {
   "cell_type": "code",
   "execution_count": 24,
   "metadata": {},
   "outputs": [],
   "source": [
    "def save_to_txt(filename, text_tokens):\n",
    "    pnct_lst = [\".\", \",\", \";\", \";\", \"?\", \"!\"]\n",
    "    with open(filename, \"w\", encoding=\"utf8\") as f:\n",
    "        for sublist in text_tokens:\n",
    "            if not sublist:\n",
    "                f.write(\"\\n\")\n",
    "            else:\n",
    "                for i, token in enumerate(sublist):\n",
    "                    if i == 0:\n",
    "                        f.write(token)\n",
    "                    elif token in pnct_lst:\n",
    "                        f.write(token + \" \")\n",
    "                    else:\n",
    "                        prev_token = sublist[i-1]\n",
    "                        if prev_token in pnct_lst:\n",
    "                            f.write(token)\n",
    "                        else:\n",
    "                            f.write(\" \" + token)\n",
    "                f.write(\"\\n\")"
   ]
  },
  {
   "cell_type": "code",
   "execution_count": 25,
   "metadata": {},
   "outputs": [],
   "source": [
    "save_to_txt(\"file1.txt\", token_list1)\n",
    "save_to_txt(\"file2.txt\", token_list2)"
   ]
  },
  {
   "cell_type": "markdown",
   "metadata": {},
   "source": [
    "7. Oblicz długość najdłuższego podciągu wspólnych tokenów dla tych tekstów. Traktujemy teraz token (wyraz) jako podstawową, niepodzielną jednostkę ciągu."
   ]
  },
  {
   "cell_type": "code",
   "execution_count": 26,
   "metadata": {},
   "outputs": [
    {
     "name": "stdout",
     "output_type": "stream",
     "text": [
      "2157\n"
     ]
    }
   ],
   "source": [
    "print(longest_sub(tokens_all1, tokens_all2))"
   ]
  },
  {
   "cell_type": "markdown",
   "metadata": {},
   "source": [
    "8. Korzystając z algorytmu z punktu 4 skonstruuj narzędzie, o działaniu podobnym do narzędzia diff, tzn. wskazującego w dwóch plikach linie, które się różnią. Na wyjściu narzędzia powinny znaleźć się elementy, które nie należą do najdłuższego wspólnego podciągu. Należy wskazać skąd dana linia pochodzi (< > - pierwszy/drugi plik) oraz numer linii w danym pliku. Traktujemy teraz całą linię jako podstawową, niepodzielną jednostkę ciągu."
   ]
  },
  {
   "cell_type": "code",
   "execution_count": 27,
   "metadata": {},
   "outputs": [],
   "source": [
    "def longest_sub(seq1, seq2):\n",
    "    m, n = len(seq1), len(seq2)\n",
    "    dp = [[0] * (n+1) for _ in range(m+1)]\n",
    "\n",
    "    for i in range(1, m+1):\n",
    "        for j in range(1, n+1):\n",
    "            if seq1[i-1] == seq2[j-1]:\n",
    "                dp[i][j] = dp[i-1][j-1] + 1\n",
    "            else:\n",
    "                dp[i][j] = max(dp[i-1][j], dp[i][j-1])\n",
    "\n",
    "    lcs = []\n",
    "    i, j = m, n\n",
    "    while i > 0 and j > 0:\n",
    "        if seq1[i-1] == seq2[j-1]:\n",
    "            lcs.append((i-1, j-1, seq1[i-1]))\n",
    "            i -= 1\n",
    "            j -= 1\n",
    "        elif dp[i-1][j] > dp[i][j-1]:\n",
    "            i -= 1\n",
    "        else:\n",
    "            j -= 1\n",
    "\n",
    "    lcs.reverse()\n",
    "    \n",
    "    return lcs"
   ]
  },
  {
   "cell_type": "code",
   "execution_count": 28,
   "metadata": {},
   "outputs": [],
   "source": [
    "def diff(filename1, filename2):\n",
    "    with open(filename1, encoding=\"utf-8\") as f1:\n",
    "        text1 = list(f1)\n",
    "    with open(filename2, encoding=\"utf-8\") as f2:\n",
    "        text2 = list(f2)\n",
    "    lcs = longest_sub(text1, text2)\n",
    "    \n",
    "    n_text1 = len(text1)\n",
    "    n_text2 = len(text2)\n",
    "    lcs_indices = [i1 for i1, _, _ in lcs]\n",
    "    diff_indices = [i for i in range(n_text1) if i not in lcs_indices]\n",
    "    \n",
    "    for i in diff_indices:\n",
    "        print(f\"< {i} | {text1[i]}\")\n",
    "        print(f\"> {i} | {text2[i]}\")\n",
    "    \n",
    "    return lcs"
   ]
  },
  {
   "cell_type": "markdown",
   "metadata": {},
   "source": [
    "9. Przedstaw wynik działania narzędzia na tekstach z punktu 6. Zwróć uwagę na dodanie znaków przejścia do nowej linii, które są usuwane w trakcie tokenizacji."
   ]
  },
  {
   "cell_type": "code",
   "execution_count": 29,
   "metadata": {
    "scrolled": false
   },
   "outputs": [
    {
     "name": "stdout",
     "output_type": "stream",
     "text": [
      "< 3 | tłum. Józef Paszkowski\n",
      "\n",
      "> 3 | .Józef Paszkowski\n",
      "\n",
      "< 18 | * LAURENTY — ojciec franciszkanin\n",
      "\n",
      "> 18 | LAURENTY — ojciec franciszkanin\n",
      "\n",
      "< 20 | * — służący Romea\n",
      "\n",
      "> 20 | * BALTAZAR — służący Romea\n",
      "\n",
      "< 28 | * MONTEKI — małżonka Montekiego\n",
      "\n",
      "> 28 | * PANI MONTEKI — małżonka Montekiego\n",
      "\n",
      "< 31 | MARTA — mamka Julii\n",
      "\n",
      "> 31 | * MARTA — mamka Julii\n",
      "\n",
      "< 32 | * Obywatele weroneńscy, różne osoby płci obojej, liczący się do przyjaciół obu domów, maski, straż wojskowa i inne osoby. \n",
      "\n",
      "> 32 | * Obywatele weroneńscy różne osoby płci obojej, liczący się do przyjaciół obu domów, maski, straż wojskowa i inne osoby. \n",
      "\n",
      "< 33 | \n",
      "\n",
      "> 33 | \n",
      "\n",
      "< 37 | Rzecz odbywa się przez większą część sztuki w Weronie, przez część aktu w Mantui. \n",
      "\n",
      "> 37 | Rzecz odbywa się przez większą część sztuki w Weronie, przez część piątego aktu w Mantui. \n",
      "\n",
      "< 47 | Do nowej zbrodni pchają złości dawne, \n",
      "\n",
      "> 47 | Do nowej zbrodni pchają dawne, \n",
      "\n",
      "< 57 | Aż ją dzieci zgon przedwczesny, \n",
      "\n",
      "> 57 | Aż ją zakończy dzieci zgon przedwczesny, \n",
      "\n",
      "< 77 | Dalipan, Grzegorzu, nie będziem pierza. \n",
      "\n",
      "> 77 | Dalipan, Grzegorzu, nie będziem darli pierza. \n",
      "\n",
      "< 97 | Mam zwyczaj zaraz, jak mię kto rozrucha. \n",
      "\n",
      "> 97 | Mam zwyczaj drapać zaraz, jak mię kto rozrucha. \n",
      "\n",
      "< 100 | GRZEGORZ\n",
      "\n",
      "> 100 | \n",
      "\n",
      "< 102 | Tak, ale nie zaraz zwykłeś się dać. \n",
      "\n",
      "> 102 | Tak ale nie zaraz zwykłeś się dać rozruchać. \n",
      "\n",
      "< 112 | Rozruchać się tyle znaczy co ruszyć się z miejsca; być walecznym jest to stać nieporuszenie : pojmuję więc, że skutkiem rozruchania się twego będzie - drapnięcie. \n",
      "\n",
      "> 112 | Rozruchać tyle znaczy co ruszyć się z miejsca; być walecznym jest to stać nieporuszenie : pojmuję więc, że skutkiem rozruchania się twego będzie - drapnięcie. \n",
      "\n",
      "< 116 | \n",
      "\n",
      "> 116 | \n",
      "\n",
      "< 117 | Te psy z Montekich rozruchać mię mogą tylko do stania na miejscu. Będę jak mur dla każdego mężczyzny i każdej kobiety z tego domu. \n",
      "\n",
      "> 117 | Te psy z domu Montekich rozruchać mię mogą tylko do stania na miejscu. Będę jak mur dla każdego mężczyzny i każdej kobiety z tego domu. \n",
      "\n",
      "< 122 | To właśnie pokazuje twoją słabą stronę; mur dla nikogo niestraszny i tylko słabi go się. \n",
      "\n",
      "> 122 | To właśnie pokazuje twoją słabą stronę; mur dla nikogo niestraszny i tylko słabi go się trzymają. \n",
      "\n",
      "< 132 | Spór jest tylko między naszymi panami i między nami, ich ludźmi. \n",
      "\n",
      "> 132 | Spór jest tylko naszymi panami i między nami, ich ludźmi. \n",
      "\n",
      "< 135 | SAMSON\n",
      "\n",
      "> 135 | \n",
      "\n",
      "< 137 | Mniejsza mi o to, będę nieubłagany. Pobiwszy ludzi, wywrę wściekłość kobietach : rzeź między nimi sprawię. \n",
      "\n",
      "> 137 | Mniejsza mi o to, będę nieubłagany. Pobiwszy ludzi, wywrę wściekłość na kobietach : rzeź między nimi sprawię. \n",
      "\n",
      "< 147 | Nie inaczej : wtłoczę miecz w każdą po kolei. Wiadomo, że się do lwów liczę. \n",
      "\n",
      "> 147 | inaczej : wtłoczę miecz w każdą po kolei. Wiadomo, że się do lwów liczę. \n",
      "\n",
      "< 164 | Gwoli drapania\n",
      "\n",
      "> 164 | Gwoli drapania? \n",
      "\n",
      "< 170 | \n",
      "\n",
      "> 170 | \n",
      "\n",
      "< 180 | \n",
      "\n",
      "> 180 | \n",
      "\n",
      "< 187 | SAMSON\n",
      "\n",
      "> 187 | \n",
      "\n",
      "< 189 | Nie jak chcą, ale jak śmią. Ja im gębę wykrzywię; hańba im, jeśli to ścierpią. \n",
      "\n",
      "> 189 | Nie jak chcą, ale jak śmią. Ja im gębę wykrzywię; hańba im, jeśli to ścierpią. \n",
      "\n",
      "< 198 | \n",
      "\n",
      "> 198 | \n",
      "\n",
      "< 199 | inaczej, skrzywiłem się. \n",
      "\n",
      "> 199 | Nie inaczej, skrzywiłem się. \n",
      "\n",
      "< 207 | SAMSON\n",
      "\n",
      "> 207 | \n",
      "\n",
      "< 211 | Będziemy–ż mieli prawo za sobą, jak powiem : tak jest? \n",
      "\n",
      "> 211 | Będziemy–ż mieli prawo za sobą, jak powiem tak jest? \n",
      "\n",
      "< 219 | SAMSON\n",
      "\n",
      "> 219 | \n",
      "\n",
      "< 221 | Nie, mości panie; nie skrzywiłem się was, tylko skrzywiłem się tak sobie. \n",
      "\n",
      "> 221 | Nie, mości panie; nie skrzywiłem się na was, tylko skrzywiłem się tak sobie. \n",
      "\n",
      "< 233 | Zaczepki? nie. \n",
      "\n",
      "> 233 | ?nie. \n",
      "\n",
      "< 248 | Niech i tak będzie. \n",
      "\n",
      "> 248 | Niech i tak. \n",
      "\n",
      "< 250 | / Benwolio ukazuje się w głębi. /\n",
      "\n",
      "> 250 | / Benwolio ukazuje się w głębi /\n",
      "\n",
      "< 255 | / na stronie Samsona /\n",
      "\n",
      "> 255 | / na stronie do Samsona /\n",
      "\n",
      "< 270 | SAMSON\n",
      "\n",
      "> 270 | \n",
      "\n",
      "< 277 | Odstąpcie, głupcy; schowajcie miecze do pochew. Sami nie wiecie, robicie. \n",
      "\n",
      "> 277 | Odstąpcie, głupcy; schowajcie miecze do pochew Sami nie wiecie, co robicie. \n",
      "\n",
      "< 281 | / Wchodzi Tybalt /\n",
      "\n",
      "> 281 | / Wchodzi Tybalt. /\n",
      "\n",
      "< 288 | \n",
      "\n",
      "> 288 | \n",
      "\n",
      "< 299 | wyrazu, tak jak nienawidzę\n",
      "\n",
      "> 299 | Tego wyrazu, tak jak nienawidzę\n",
      "\n",
      "< 303 | / Walczą. Nadchodzi kilku przyjaciół obu partii i mieszają się do zwady; potem wchodzą mieszczanie z pałkami. /\n",
      "\n",
      "> 303 | / Walczą. Nadchodzi kilku przyjaciół obu partii i mieszają się do zwady; wkrótce potem wchodzą mieszczanie z pałkami. /\n",
      "\n",
      "< 306 | PIERWSZY OBYWATEL\n",
      "\n",
      "> 306 | PIERWSZY\n",
      "\n",
      "< 308 | Hola berdyszów! pałek! Dalej po nich! \n",
      "\n",
      "> 308 | Hola! berdyszów! pałek! Dalej po nich! \n",
      "\n",
      "< 320 | PANI\n",
      "\n",
      "> 320 | PANI KAPULET\n",
      "\n",
      "< 327 | Miecz, mówię! Stary Monteki nadchodzi. \n",
      "\n",
      "> 327 | Miecz, mówię! Stary Monteki nadchodzi\n",
      "\n",
      "< 328 | I szydnie swoją klingą urąga. \n",
      "\n",
      "> 328 | I szydnie swoją klingą mi urąga. \n",
      "\n",
      "< 330 | / Wchodzą Monteki i Pani Monteki /\n",
      "\n",
      "> 330 | / Wchodzą Monteki i Pani Monteki. /\n",
      "\n",
      "< 339 | Puść mnie, pani. \n",
      "\n",
      "> 339 | Puść, pani. \n",
      "\n",
      "< 349 | KSIĄŻĘ\n",
      "\n",
      "> 349 | \n",
      "\n",
      "< 355 | własnych żył swoich źródle purpurowym\n",
      "\n",
      "> 355 | W własnych żył swoich źródle purpurowym; \n",
      "\n",
      "< 360 | starcia, z marnych słów zrodzone\n",
      "\n",
      "> 360 | Domowe starcia, z marnych zrodzone\n",
      "\n",
      "< 368 | wasze przecinać. Jeżeli\n",
      "\n",
      "> 368 | Niechęci wasze przecinać. Jeżeli\n",
      "\n",
      "< 370 | Zamęt pokoju opłacicie życiem. \n",
      "\n",
      "> 370 | Zamęt pokoju opłacicie życiem\n",
      "\n",
      "< 371 | A wszyscy ustąpcie niezwłocznie. \n",
      "\n",
      "> 371 | A teraz wszyscy ustąpcie niezwłocznie. \n",
      "\n",
      "< 373 | Ty zaś Monteki, przyjdziesz po południu\n",
      "\n",
      "> 373 | Ty zaś, Monteki, przyjdziesz po południu\n",
      "\n",
      "< 376 | Jeszcze raz wzywam wszystkich tu obecnych\n",
      "\n",
      "> 376 | Jeszcze raz wzywam wszystkich obecnych\n",
      "\n",
      "< 377 | Pod karą śmierci, aby się rozeszli. \n",
      "\n",
      "> 377 | Pod śmierci, aby się rozeszli. \n",
      "\n",
      "< 380 | \n",
      "\n",
      "> 380 | \n",
      "\n",
      "< 390 | Nieprzyjaciela naszego\n",
      "\n",
      "> 390 | Nieprzyjaciela naszego pachołcy\n",
      "\n",
      "< 391 | I wasi już się bili, kiedym nadszedł; \n",
      "\n",
      "> 391 | I wasi już się bili kiedym nadszedł; \n",
      "\n",
      "< 394 | I harde zionąc mi uszy wyzwanie, \n",
      "\n",
      "> 394 | I harde zionąc mi w uszy wyzwanie, \n",
      "\n",
      "< 396 | Które świszczało tylko szydząc z marnych\n",
      "\n",
      "> 396 | świszczało tylko szydząc marnych\n",
      "\n",
      "< 399 | Większy tłum ludzi; z obu stron walczono, \n",
      "\n",
      "> 399 | Większy tłum ludzi; obu stron walczono\n",
      "\n",
      "< 400 | Aż książę nadszedł i rozdzielił wszystkich. \n",
      "\n",
      "> 400 | Aż książę i rozdzielił wszystkich. \n",
      "\n",
      "< 403 | PANI MONTEKI\n",
      "\n",
      "> 403 | MONTEKI\n",
      "\n",
      "< 405 | gdzież Romeo? Widział żeś go dzisiaj? \n",
      "\n",
      "> 405 | Lecz gdzież Romeo? Widział żeś go dzisiaj? \n",
      "\n",
      "< 412 | W złotych się oknach wschodu ukazało\n",
      "\n",
      "> 412 | W złotych się oknach wschodu ukazało, \n",
      "\n",
      "< 413 | Troski wygnały mię z dala od domu\n",
      "\n",
      "> 413 | Troski wygnały mię z dala domu\n",
      "\n",
      "< 416 | Tam, już tak rano, syn wasz się przechadzał. \n",
      "\n",
      "> 416 | Tam już tak rano, syn wasz się przechadzał. \n",
      "\n",
      "< 423 | Nie przeszkadzałem mu w dumaniach\n",
      "\n",
      "> 423 | Nie przeszkadzałem mu w jego dumaniach\n",
      "\n",
      "< 424 | I w stronę się udałem, chętnie\n",
      "\n",
      "> 424 | I w inną stronę się udałem, chętnie\n",
      "\n",
      "< 428 | MONTEKI\n",
      "\n",
      "> 428 | \n",
      "\n",
      "< 431 | Łzami poranną mnożącego rosę\n",
      "\n",
      "> 431 | Łzami poranną mnożącego rosę, \n",
      "\n",
      "< 432 | A chmury swego oblicza chmurami, \n",
      "\n",
      "> 432 | A chmury — swego oblicza chmurami, \n",
      "\n",
      "< 435 | Zaczęło ściągać cienistą kotarę, \n",
      "\n",
      "> 435 | Zaczęło ściągać cienistą kotarę\n",
      "\n",
      "< 437 | Co tchu zamykał się w swoim pokoju; \n",
      "\n",
      "> 437 | tchu zamykał się w swoim pokoju; \n",
      "\n",
      "< 438 | Zasłaniał okna przed jasnym dnia blaskiem\n",
      "\n",
      "> 438 | Zasłaniał przed jasnym dnia blaskiem\n",
      "\n",
      "< 441 | Jeśli się na to lekarstwo nie. \n",
      "\n",
      "> 441 | Jeśli się na to lekarstwo nie znajdzie. \n",
      "\n",
      "< 444 | BENWOLIO\n",
      "\n",
      "> 444 | \n",
      "\n",
      "< 446 | Szanowny stryju, znasz–że powód tego? \n",
      "\n",
      "> 446 | Szanowny stryju, znasz–że powód tego? \n",
      "\n",
      "< 463 | Tak im jest wierny, tak zamknięty w sobie, \n",
      "\n",
      "> 463 | Tak im jest wierny tak zamknięty w sobie, \n",
      "\n",
      "< 467 | I pełność swoją przed słońcem. \n",
      "\n",
      "> 467 | pełność swoją rozwinął przed słońcem. \n",
      "\n",
      "< 476 | Oto nadchodzi. Odstąpcie na stronę; \n",
      "\n",
      "> 476 | Oto nadchodzi Odstąpcie na stronę; \n",
      "\n",
      "< 483 | Mógł być szczęśliwszym nas! Pójdźmy, pani. \n",
      "\n",
      "> 483 | Mógł być szczęśliwszym od nas! Pójdźmy, pani. \n",
      "\n",
      "< 488 | BENWOLIO\n",
      "\n",
      "> 488 | \n",
      "\n",
      "< 496 | \n",
      "\n",
      "> 496 | \n",
      "\n",
      "< 500 | Dziewiąta biła dopiero. \n",
      "\n",
      "> 500 | Dziewiąta biła. \n",
      "\n",
      "< 505 | Jak nudnie\n",
      "\n",
      "> 505 | Jak\n",
      "\n",
      "< 527 | Brak jej. \n",
      "\n",
      "> 527 | jej. \n",
      "\n",
      "< 546 | ROMEO\n",
      "\n",
      "> 546 | \n",
      "\n",
      "< 548 | Niestety! Czemuż z zasłoną na skroni, \n",
      "\n",
      "> 548 | Niestety! Czemuż, z zasłoną na skroni, \n",
      "\n",
      "< 550 | Gdzież jeść będziem? ! Był tu podobno\n",
      "\n",
      "> 550 | Gdzież dziś jeść będziem? Ach! Był tu podobno\n",
      "\n",
      "< 551 | Jakiś spór? Nie mi o nim, wiem wszystko. \n",
      "\n",
      "> 551 | Jakiś spór? Nie mów mi o nim, wiem wszystko. \n",
      "\n",
      "< 552 | W grze tu nienawiść wielka, lecz i miłość. \n",
      "\n",
      "> 552 | W tu nienawiść wielka, lecz i miłość. \n",
      "\n",
      "< 553 | !wy sprzeczności niepojęte dziwa! \n",
      "\n",
      "> 553 | O! wy sprzeczności niepojęte dziwa! \n",
      "\n",
      "< 555 | Coś narodzone z niczego! Pieszczoto\n",
      "\n",
      "> 555 | Coś narodzone z niczego! \n",
      "\n",
      "< 558 | Jasna mgło Zimny żarze! Martwy ruchu! \n",
      "\n",
      "> 558 | Jasna mgło! Zimny żarze! Martwy ruchu! \n",
      "\n",
      "< 561 | Czy się nie śmiejesz? \n",
      "\n",
      "> 561 | się nie śmiejesz? \n",
      "\n",
      "< 566 | Nie, płakałbym\n",
      "\n",
      "> 566 | Nie, płakałbym raczej. \n",
      "\n",
      "< 574 | BENWOLIO\n",
      "\n",
      "> 574 | \n",
      "\n",
      "< 577 | Poczciwej duszy twojej\n",
      "\n",
      "> 577 | Poczciwej duszy twojej. \n",
      "\n",
      "< 590 | To żar, co w oku szczęśliwego płonie; \n",
      "\n",
      "> 590 | To żar, co w oku szczęśliwego płonie\n",
      "\n",
      "< 594 | Bądź zdrów. \n",
      "\n",
      "> 594 | Bądź. \n",
      "\n",
      "< 602 | Gdybyś mą przyjaźń z kwitkiem tak zostawił. \n",
      "\n",
      "> 602 | Gdybyś mą z kwitkiem tak zostawił. \n",
      "\n",
      "< 607 | Ach! ja nie jestem, nie jestem sobą; \n",
      "\n",
      "> 607 | Ach! ja nie jestem tu, nie jestem sobą; \n",
      "\n",
      "< 611 | BENWOLIO\n",
      "\n",
      "> 611 | \n",
      "\n",
      "< 619 | Mam–że wraz jęczyć i mówić? \n",
      "\n",
      "> 619 | Mam–że wraz jęczyć i\n",
      "\n",
      "< 622 | BENWOLIO\n",
      "\n",
      "> 622 | \n",
      "\n",
      "< 633 | Dobre dla tego, kto jest w tak złym? \n",
      "\n",
      "> 633 | Dobre dla tego, kto jest w tak złym stanie? \n",
      "\n",
      "< 645 | Biegle celujesz. I, którą kocham, \n",
      "\n",
      "> 645 | Biegle celujesz. I ta, którą kocham, \n",
      "\n",
      "< 657 | Kupida; ona ma naturę Diany; \n",
      "\n",
      "> 657 | ;ona ma naturę Diany; \n",
      "\n",
      "< 663 | Bogata w wdzięki w tym jedynie biedna, \n",
      "\n",
      "> 663 | Bogata w wdzięki, w tym jedynie biedna, \n",
      "\n",
      "< 679 | Zbyt mądrze piękna : stąd istnym jest głazem. \n",
      "\n",
      "> 679 | Zbyt mądrze piękna : stąd istnym głazem. \n",
      "\n",
      "< 680 | Przysięgła nigdy nie kochać i dzięki\n",
      "\n",
      "> 680 | Przysięgła nigdy nie kochać dzięki\n",
      "\n",
      "< 691 | Doradź–że także, jakim bym sposobem\n",
      "\n",
      "> 691 | Doradź–że także, bym\n",
      "\n"
     ]
    }
   ],
   "source": [
    "lcs = diff(\"file1.txt\", \"file2.txt\")"
   ]
  },
  {
   "cell_type": "code",
   "execution_count": null,
   "metadata": {},
   "outputs": [],
   "source": []
  }
 ],
 "metadata": {
  "kernelspec": {
   "display_name": "Python 3",
   "language": "python",
   "name": "python3"
  },
  "language_info": {
   "codemirror_mode": {
    "name": "ipython",
    "version": 3
   },
   "file_extension": ".py",
   "mimetype": "text/x-python",
   "name": "python",
   "nbconvert_exporter": "python",
   "pygments_lexer": "ipython3",
   "version": "3.8.5"
  }
 },
 "nbformat": 4,
 "nbformat_minor": 4
}
