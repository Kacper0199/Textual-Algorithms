{
 "cells": [
  {
   "cell_type": "code",
   "execution_count": 1,
   "metadata": {},
   "outputs": [],
   "source": [
    "import os\n",
    "import random\n",
    "from bitarray import bitarray\n",
    "from os import remove\n",
    "from time import time\n",
    "from collections import defaultdict\n",
    "from queue import Queue\n",
    "from os.path import getsize"
   ]
  },
  {
   "cell_type": "markdown",
   "metadata": {},
   "source": [
    "## Utworzenie węzła"
   ]
  },
  {
   "cell_type": "code",
   "execution_count": 2,
   "metadata": {},
   "outputs": [],
   "source": [
    "class Node:\n",
    "    def __init__(self, w=0, v=None):\n",
    "        self.value = v\n",
    "        self.parent = self\n",
    "        self.children = {}\n",
    "        self.weight = w        \n",
    "        \n",
    "    def gen_parent(self, node1, node2):\n",
    "        self.children[1] = node1\n",
    "        self.children[0] = node2\n",
    "        self.weight = node1.weight + node2.weight\n",
    "        node1.parent = self\n",
    "        node2.parent = self"
   ]
  },
  {
   "cell_type": "markdown",
   "metadata": {},
   "source": [
    "## Funkcja pomocnicza do zliczania liter w słowniku"
   ]
  },
  {
   "cell_type": "code",
   "execution_count": 3,
   "metadata": {},
   "outputs": [],
   "source": [
    "def letter_counter(text):\n",
    "    letter_dict = defaultdict(int)\n",
    "    for t in text:\n",
    "        letter_dict[t] += 1\n",
    "        \n",
    "    return letter_dict"
   ]
  },
  {
   "cell_type": "markdown",
   "metadata": {},
   "source": [
    "## Statyczny kod Huffmana"
   ]
  },
  {
   "cell_type": "code",
   "execution_count": 4,
   "metadata": {},
   "outputs": [],
   "source": [
    "def huffman_static(text):\n",
    "    letter_counts = defaultdict(int)\n",
    "    \n",
    "    for letter in text:\n",
    "        letter_counts[letter] += 1\n",
    "        \n",
    "    nodes = []\n",
    "    for letter, count in letter_counts.items():\n",
    "        nodes.append(Node(count, letter))\n",
    "        \n",
    "    leaf_nodes = sorted(nodes, key=lambda n: n.weight)\n",
    "    nodes_inter = []\n",
    "    while len(leaf_nodes) + len(nodes_inter) > 1:\n",
    "        node_list = []\n",
    "        for _ in range (2):\n",
    "            if len(leaf_nodes) == 0:\n",
    "                node_list.append(nodes_inter.pop(0))\n",
    "            elif len(nodes_inter) == 0 or leaf_nodes[0].weight <= nodes_inter[0].weight:\n",
    "                node_list.append(leaf_nodes.pop(0))\n",
    "            else:\n",
    "                node_list.append(nodes_inter.pop(0))\n",
    "                \n",
    "        new_internal_node = Node()\n",
    "        new_internal_node.gen_parent(node_list[0], node_list[1])\n",
    "        nodes_inter.append(new_internal_node)\n",
    "        \n",
    "    return nodes_inter[0]  "
   ]
  },
  {
   "cell_type": "markdown",
   "metadata": {},
   "source": [
    "## Dynamiczny kod Huffmana"
   ]
  },
  {
   "cell_type": "markdown",
   "metadata": {},
   "source": [
    "#### Funkcje pomocnicze"
   ]
  },
  {
   "cell_type": "code",
   "execution_count": 5,
   "metadata": {},
   "outputs": [],
   "source": [
    "def get_elem(val, tree_root):\n",
    "    node_queue = Queue()\n",
    "    current_node = tree_root\n",
    "    node_queue.put(current_node)\n",
    "    \n",
    "    while not node_queue.empty():\n",
    "        current_node = node_queue.get()\n",
    "        \n",
    "        if current_node.weight == val:\n",
    "            return current_node\n",
    "        if current_node.value == None:\n",
    "            node_queue.put(current_node.children[1])\n",
    "            node_queue.put(current_node.children[0])\n",
    "            \n",
    "    return None"
   ]
  },
  {
   "cell_type": "code",
   "execution_count": 6,
   "metadata": {},
   "outputs": [],
   "source": [
    "def increment_weight(node, tree_root):\n",
    "    if tree_root == node:\n",
    "        node.weight += 1\n",
    "        return\n",
    "    \n",
    "    weight_node = get_elem(node.weight, tree_root)\n",
    "    if weight_node != node and weight_node != node.parent:\n",
    "        parent = node.parent\n",
    "        weight_parent = weight_node.parent\n",
    "        if parent.children[0] == node:\n",
    "            parent.children[0] = weight_node\n",
    "        else:\n",
    "            parent.children[1] = weight_node\n",
    "        if weight_parent.children[0] == weight_node:\n",
    "            weight_parent.children[0] = node\n",
    "        else:\n",
    "            weight_parent.children[1] = node\n",
    "        weight_node.parent = parent\n",
    "        node.parent = weight_parent\n",
    "        \n",
    "    node.weight += 1\n",
    "    increment_weight(node.parent, tree_root)"
   ]
  },
  {
   "cell_type": "code",
   "execution_count": 7,
   "metadata": {},
   "outputs": [],
   "source": [
    "def huffman_dynamic(text):\n",
    "    elements = {}\n",
    "    elements[\"##\"] = Node(v=\"##\")\n",
    "    tree_root = elements[\"##\"]\n",
    "    \n",
    "    for t in text:\n",
    "        if t in elements:\n",
    "            node = elements[t]\n",
    "            increment_weight(node, tree_root)\n",
    "        else:\n",
    "            node_new = elements[\"##\"]\n",
    "            node_new.value = None\n",
    "            node = Node(v=t)\n",
    "            \n",
    "            del elements[\"##\"]\n",
    "            zero = Node(v=\"##\")\n",
    "            node_new.gen_parent(node, zero)\n",
    "            node.weight = 1\n",
    "            elements[t] = node\n",
    "            elements[\"##\"] = zero\n",
    "            increment_weight(node_new, tree_root)\n",
    "            \n",
    "    return tree_root"
   ]
  },
  {
   "cell_type": "markdown",
   "metadata": {},
   "source": [
    "## Enkodowanie i dekodowanie"
   ]
  },
  {
   "cell_type": "code",
   "execution_count": 8,
   "metadata": {},
   "outputs": [],
   "source": [
    "def huffman_tree_to_library(node, library, key=\"\"):\n",
    "    if node.value is not None:\n",
    "        if node.value == \"##\":\n",
    "            return\n",
    "        library[node.value] = key\n",
    "    else:\n",
    "        huffman_tree_to_library(node.children[0], library, key + \"0\")\n",
    "        huffman_tree_to_library(node.children[1], library, key + \"1\")"
   ]
  },
  {
   "cell_type": "code",
   "execution_count": 9,
   "metadata": {},
   "outputs": [],
   "source": [
    "def encode(text, encoding_type=1, huffman_tree=None):\n",
    "    if huffman_tree is None:\n",
    "        if encoding_type:\n",
    "            huffman_tree = huffman_static(text)\n",
    "        else:\n",
    "            huffman_tree = huffman_dynamic(text)\n",
    "\n",
    "    library = {}\n",
    "    huffman_tree_to_library(huffman_tree, library)\n",
    "    \n",
    "    encoded = bitarray()\n",
    "    for letter in text:\n",
    "        encoded += bitarray(library[letter])\n",
    "    \n",
    "    library_enc = bitarray(\"1\")\n",
    "    for letter, code in library.items():\n",
    "        code_len = len(code)\n",
    "        code_len_bits = bin(code_len)[2:]\n",
    "        padding_len = 8 - len(code_len_bits)\n",
    "        code_len_bits = \"0\" * padding_len + code_len_bits\n",
    "        library_enc.frombytes(bytes(letter, \"utf-16\"))\n",
    "        library_enc += bitarray(code_len_bits)\n",
    "        library_enc += bitarray(code)\n",
    "    library_enc += bitarray(\"0\" * 32)\n",
    "    \n",
    "    padding_bits = 8 - ((len(library_enc) + len(encoded)) % 8)\n",
    "    if padding_bits == 8:\n",
    "        padding_bits = 0\n",
    "    result = bitarray(\"0\" * padding_bits) + library_enc + encoded\n",
    "    return result"
   ]
  },
  {
   "cell_type": "code",
   "execution_count": 10,
   "metadata": {},
   "outputs": [],
   "source": [
    "def tree_insert(tree, letter, c):\n",
    "    node = tree\n",
    "    \n",
    "    for b in c:\n",
    "        if b:\n",
    "            if 1 not in node.children:\n",
    "                node.children[1] = Node()\n",
    "                node.children[1].parent = node\n",
    "                \n",
    "            node = node.children[1]\n",
    "        else:\n",
    "            if 0 not in node.children:\n",
    "                node.children[0] = Node()\n",
    "                node.children[0].parent = node\n",
    "            node = node.children[0]\n",
    "    node.value = letter"
   ]
  },
  {
   "cell_type": "code",
   "execution_count": 11,
   "metadata": {},
   "outputs": [],
   "source": [
    "def decode(enc):\n",
    "    root_node = Node()\n",
    "    \n",
    "    i = 0\n",
    "    while not enc[i]:\n",
    "        i += 1\n",
    "        \n",
    "    i += 1\n",
    "    val = 32\n",
    "    bits_l = enc[i:i+val]\n",
    "    i += val\n",
    "    \n",
    "    while bits_l != bitarray(\"0\" * val):\n",
    "        lett = bits_l.tobytes().decode(\"utf-16\")\n",
    "        kb_bits = enc[i:i+8]\n",
    "        kb = \"\"\n",
    "        for bit in kb_bits:\n",
    "            if bit:\n",
    "                kb += \"1\"\n",
    "            else:\n",
    "                kb += \"0\"\n",
    "        k = int(kb, 2)\n",
    "        i += 8\n",
    "        code_bits = enc[i:i+k]\n",
    "        i += k\n",
    "        tree_insert(root_node, lett, code_bits)\n",
    "        bits_l = enc[i:i+val]\n",
    "        i += val\n",
    "        \n",
    "    res = \"\"\n",
    "    node = root_node\n",
    "    for b in enc[i:]:\n",
    "        if b:\n",
    "            node = node.children[1]\n",
    "        else:\n",
    "            node = node.children[0]\n",
    "        if node.value is not None:\n",
    "            res += node.value\n",
    "            node = root_node\n",
    "            \n",
    "    return res"
   ]
  },
  {
   "cell_type": "markdown",
   "metadata": {},
   "source": [
    "## Testy"
   ]
  },
  {
   "cell_type": "code",
   "execution_count": 12,
   "metadata": {},
   "outputs": [],
   "source": [
    "def test_static(path):\n",
    "    file = open(path, \"r\", encoding=\"utf8\")\n",
    "    text = file.read()\n",
    "    file.close()\n",
    "    \n",
    "    file = open(\"tmp.txt\", \"w\", encoding=\"utf8\")\n",
    "    file.write(text)\n",
    "    file.close()\n",
    "    \n",
    "    size_original = getsize(\"tmp.txt\")\n",
    "    remove(\"tmp.txt\")\n",
    "    \n",
    "    start = time()\n",
    "    encoded = encode(text, encoding_type=1)\n",
    "    end = time()\n",
    "    encode_static_time = end - start\n",
    "    \n",
    "    f = open(\"temp.txt\", \"wb\")\n",
    "    f.write(encoded.tobytes())\n",
    "    f.close()\n",
    "    \n",
    "    size_encoded = getsize(\"temp.txt\")\n",
    "    \n",
    "    f = open(\"temp.txt\", \"rb\")\n",
    "    txt = f.read()\n",
    "    f.close()\n",
    "    encoded2 = bitarray()\n",
    "    encoded2.frombytes(txt)\n",
    "    remove(\"temp.txt\")\n",
    "    \n",
    "    start = time()\n",
    "    decoded = decode(encoded2)\n",
    "    end = time()\n",
    "    decode_time = end - start\n",
    "    \n",
    "    print(\"Statyczny kod Huffmana\")\n",
    "    print(\"-\"*30)\n",
    "    print(f\"Rozmiar oryginalny pliku: {size_original}\")\n",
    "    print(f\"Rozmiar skompresowanego pliku: {size_encoded}\")\n",
    "    print(f\"Wspolczynnik kompresji: {100*(1-size_encoded/size_original)}\")\n",
    "    print(f\"Czas kompresji: {encode_static_time}\")\n",
    "    print(f\"Czas dekompresji: {decode_time}\")"
   ]
  },
  {
   "cell_type": "code",
   "execution_count": 13,
   "metadata": {},
   "outputs": [],
   "source": [
    "def test_dynamic(path):\n",
    "    file = open(path, \"r\", encoding=\"utf8\")\n",
    "    text = file.read()\n",
    "    file.close()\n",
    "    \n",
    "    file = open(\"tmp.txt\", \"w\", encoding=\"utf8\")\n",
    "    file.write(text)\n",
    "    file.close()\n",
    "    \n",
    "    size_original = getsize(\"tmp.txt\")\n",
    "    remove(\"tmp.txt\")\n",
    "    \n",
    "    start = time()\n",
    "    encoded = encode(text, encoding_type=0)\n",
    "    end = time()\n",
    "    encode_dynamic_time = end - start\n",
    "    \n",
    "    f = open(\"temp.txt\", \"wb\")\n",
    "    f.write(encoded.tobytes())\n",
    "    f.close()\n",
    "    \n",
    "    size_encoded = getsize(\"temp.txt\")\n",
    "    \n",
    "    print(\"Dynamiczny kod Huffmana\")\n",
    "    print(\"-\"*30)\n",
    "    print(f\"Rozmiar oryginalny pliku: {size_original}\")\n",
    "    print(f\"Rozmiar skompresowanego pliku: {size_encoded}\")\n",
    "    print(f\"Wspolczynnik kompresji: {100*(1-size_encoded/size_original)}\")\n",
    "    print(f\"Czas kompresji: {encode_dynamic_time}\")"
   ]
  },
  {
   "cell_type": "markdown",
   "metadata": {},
   "source": [
    "---"
   ]
  },
  {
   "cell_type": "code",
   "execution_count": 14,
   "metadata": {},
   "outputs": [
    {
     "name": "stdout",
     "output_type": "stream",
     "text": [
      "Statyczny kod Huffmana\n",
      "------------------------------\n",
      "Rozmiar oryginalny pliku: 734\n",
      "Rozmiar skompresowanego pliku: 753\n",
      "Wspolczynnik kompresji: -2.588555858310637\n",
      "Czas kompresji: 0.0\n",
      "Czas dekompresji: 0.0\n"
     ]
    }
   ],
   "source": [
    "test_static(\"gutenberg1kB.txt\")"
   ]
  },
  {
   "cell_type": "code",
   "execution_count": 15,
   "metadata": {},
   "outputs": [
    {
     "name": "stdout",
     "output_type": "stream",
     "text": [
      "Dynamiczny kod Huffmana\n",
      "------------------------------\n",
      "Rozmiar oryginalny pliku: 734\n",
      "Rozmiar skompresowanego pliku: 753\n",
      "Wspolczynnik kompresji: -2.588555858310637\n",
      "Czas kompresji: 0.32991957664489746\n"
     ]
    }
   ],
   "source": [
    "test_dynamic(\"gutenberg1kB.txt\")"
   ]
  },
  {
   "cell_type": "code",
   "execution_count": 16,
   "metadata": {},
   "outputs": [
    {
     "name": "stdout",
     "output_type": "stream",
     "text": [
      "Statyczny kod Huffmana\n",
      "------------------------------\n",
      "Rozmiar oryginalny pliku: 9716\n",
      "Rozmiar skompresowanego pliku: 5564\n",
      "Wspolczynnik kompresji: 42.73363524083985\n",
      "Czas kompresji: 0.004333019256591797\n",
      "Czas dekompresji: 0.004210472106933594\n"
     ]
    }
   ],
   "source": [
    "test_static(\"gutenberg10kB.txt\")"
   ]
  },
  {
   "cell_type": "code",
   "execution_count": 17,
   "metadata": {},
   "outputs": [
    {
     "name": "stdout",
     "output_type": "stream",
     "text": [
      "Dynamiczny kod Huffmana\n",
      "------------------------------\n",
      "Rozmiar oryginalny pliku: 9716\n",
      "Rozmiar skompresowanego pliku: 5565\n",
      "Wspolczynnik kompresji: 42.72334293948127\n",
      "Czas kompresji: 4.218203783035278\n"
     ]
    }
   ],
   "source": [
    "test_dynamic(\"gutenberg10kB.txt\")"
   ]
  },
  {
   "cell_type": "code",
   "execution_count": 18,
   "metadata": {},
   "outputs": [
    {
     "name": "stdout",
     "output_type": "stream",
     "text": [
      "Statyczny kod Huffmana\n",
      "------------------------------\n",
      "Rozmiar oryginalny pliku: 102045\n",
      "Rozmiar skompresowanego pliku: 52338\n",
      "Wspolczynnik kompresji: 48.71086285462296\n",
      "Czas kompresji: 0.03607916831970215\n",
      "Czas dekompresji: 0.05614113807678223\n"
     ]
    }
   ],
   "source": [
    "test_static(\"gutenberg100kB.txt\")"
   ]
  },
  {
   "cell_type": "code",
   "execution_count": 19,
   "metadata": {},
   "outputs": [
    {
     "name": "stdout",
     "output_type": "stream",
     "text": [
      "Dynamiczny kod Huffmana\n",
      "------------------------------\n",
      "Rozmiar oryginalny pliku: 102045\n",
      "Rozmiar skompresowanego pliku: 52341\n",
      "Wspolczynnik kompresji: 48.70792297515801\n",
      "Czas kompresji: 39.986825466156006\n"
     ]
    }
   ],
   "source": [
    "test_dynamic(\"gutenberg100kB.txt\")"
   ]
  },
  {
   "cell_type": "code",
   "execution_count": 20,
   "metadata": {},
   "outputs": [
    {
     "name": "stdout",
     "output_type": "stream",
     "text": [
      "Statyczny kod Huffmana\n",
      "------------------------------\n",
      "Rozmiar oryginalny pliku: 1023890\n",
      "Rozmiar skompresowanego pliku: 534964\n",
      "Wspolczynnik kompresji: 47.751809276387114\n",
      "Czas kompresji: 0.3996086120605469\n",
      "Czas dekompresji: 0.6996674537658691\n"
     ]
    }
   ],
   "source": [
    "test_static(\"gutenberg1MB.txt\")"
   ]
  },
  {
   "cell_type": "markdown",
   "metadata": {},
   "source": [
    "---"
   ]
  },
  {
   "cell_type": "code",
   "execution_count": 21,
   "metadata": {},
   "outputs": [
    {
     "name": "stdout",
     "output_type": "stream",
     "text": [
      "Statyczny kod Huffmana\n",
      "------------------------------\n",
      "Rozmiar oryginalny pliku: 963\n",
      "Rozmiar skompresowanego pliku: 1037\n",
      "Wspolczynnik kompresji: -7.684319833852538\n",
      "Czas kompresji: 0.0\n",
      "Czas dekompresji: 0.0\n"
     ]
    }
   ],
   "source": [
    "test_static(\"linux1kB.txt\")"
   ]
  },
  {
   "cell_type": "code",
   "execution_count": 22,
   "metadata": {},
   "outputs": [
    {
     "name": "stdout",
     "output_type": "stream",
     "text": [
      "Dynamiczny kod Huffmana\n",
      "------------------------------\n",
      "Rozmiar oryginalny pliku: 963\n",
      "Rozmiar skompresowanego pliku: 1038\n",
      "Wspolczynnik kompresji: -7.78816199376946\n",
      "Czas kompresji: 0.5148036479949951\n"
     ]
    }
   ],
   "source": [
    "test_dynamic(\"linux1kB.txt\")"
   ]
  },
  {
   "cell_type": "code",
   "execution_count": 23,
   "metadata": {},
   "outputs": [
    {
     "name": "stdout",
     "output_type": "stream",
     "text": [
      "Statyczny kod Huffmana\n",
      "------------------------------\n",
      "Rozmiar oryginalny pliku: 10020\n",
      "Rozmiar skompresowanego pliku: 6856\n",
      "Wspolczynnik kompresji: 31.57684630738523\n",
      "Czas kompresji: 0.005766630172729492\n",
      "Czas dekompresji: 0.0022056102752685547\n"
     ]
    }
   ],
   "source": [
    "test_static(\"linux10kB.txt\")"
   ]
  },
  {
   "cell_type": "code",
   "execution_count": 24,
   "metadata": {},
   "outputs": [
    {
     "name": "stdout",
     "output_type": "stream",
     "text": [
      "Dynamiczny kod Huffmana\n",
      "------------------------------\n",
      "Rozmiar oryginalny pliku: 10020\n",
      "Rozmiar skompresowanego pliku: 6856\n",
      "Wspolczynnik kompresji: 31.57684630738523\n",
      "Czas kompresji: 5.305941343307495\n"
     ]
    }
   ],
   "source": [
    "test_dynamic(\"linux10kB.txt\")"
   ]
  },
  {
   "cell_type": "code",
   "execution_count": 25,
   "metadata": {},
   "outputs": [
    {
     "name": "stdout",
     "output_type": "stream",
     "text": [
      "Statyczny kod Huffmana\n",
      "------------------------------\n",
      "Rozmiar oryginalny pliku: 101850\n",
      "Rozmiar skompresowanego pliku: 65320\n",
      "Wspolczynnik kompresji: 35.86647029945998\n",
      "Czas kompresji: 0.04030776023864746\n",
      "Czas dekompresji: 0.06339073181152344\n"
     ]
    }
   ],
   "source": [
    "test_static(\"linux100kB.txt\")"
   ]
  },
  {
   "cell_type": "code",
   "execution_count": 26,
   "metadata": {},
   "outputs": [
    {
     "name": "stdout",
     "output_type": "stream",
     "text": [
      "Dynamiczny kod Huffmana\n",
      "------------------------------\n",
      "Rozmiar oryginalny pliku: 101850\n",
      "Rozmiar skompresowanego pliku: 65320\n",
      "Wspolczynnik kompresji: 35.86647029945998\n",
      "Czas kompresji: 56.391067028045654\n"
     ]
    }
   ],
   "source": [
    "test_dynamic(\"linux100kB.txt\")"
   ]
  },
  {
   "cell_type": "code",
   "execution_count": 27,
   "metadata": {},
   "outputs": [
    {
     "name": "stdout",
     "output_type": "stream",
     "text": [
      "Statyczny kod Huffmana\n",
      "------------------------------\n",
      "Rozmiar oryginalny pliku: 1023500\n",
      "Rozmiar skompresowanego pliku: 651440\n",
      "Wspolczynnik kompresji: 36.35173424523693\n",
      "Czas kompresji: 0.42556262016296387\n",
      "Czas dekompresji: 0.7046546936035156\n"
     ]
    }
   ],
   "source": [
    "test_static(\"linux1MB.txt\")"
   ]
  },
  {
   "cell_type": "markdown",
   "metadata": {},
   "source": [
    "---"
   ]
  },
  {
   "cell_type": "code",
   "execution_count": 28,
   "metadata": {},
   "outputs": [],
   "source": [
    "def generate_file(n, size):\n",
    "    with open(f\"random{size}.txt\", \"w\", encoding=\"utf8\") as f:\n",
    "        for i in range(n):\n",
    "            byte = random.randint(0, 255)\n",
    "            f.write(chr(byte))\n",
    "    f.close()"
   ]
  },
  {
   "cell_type": "code",
   "execution_count": 29,
   "metadata": {},
   "outputs": [],
   "source": [
    "generate_file(68, \"1kB\")"
   ]
  },
  {
   "cell_type": "code",
   "execution_count": 30,
   "metadata": {},
   "outputs": [],
   "source": [
    "generate_file(6800, \"10kB\")"
   ]
  },
  {
   "cell_type": "code",
   "execution_count": 31,
   "metadata": {},
   "outputs": [],
   "source": [
    "generate_file(68000, \"100kB\")"
   ]
  },
  {
   "cell_type": "code",
   "execution_count": 32,
   "metadata": {},
   "outputs": [],
   "source": [
    "generate_file(681000, \"1MB\")"
   ]
  },
  {
   "cell_type": "markdown",
   "metadata": {},
   "source": [
    "---"
   ]
  },
  {
   "cell_type": "code",
   "execution_count": 33,
   "metadata": {},
   "outputs": [
    {
     "name": "stdout",
     "output_type": "stream",
     "text": [
      "Statyczny kod Huffmana\n",
      "------------------------------\n",
      "Rozmiar oryginalny pliku: 103\n",
      "Rozmiar skompresowanego pliku: 417\n",
      "Wspolczynnik kompresji: -304.8543689320389\n",
      "Czas kompresji: 0.0\n",
      "Czas dekompresji: 0.0\n"
     ]
    }
   ],
   "source": [
    "test_static(\"random1kB.txt\")"
   ]
  },
  {
   "cell_type": "code",
   "execution_count": 34,
   "metadata": {},
   "outputs": [
    {
     "name": "stdout",
     "output_type": "stream",
     "text": [
      "Dynamiczny kod Huffmana\n",
      "------------------------------\n",
      "Rozmiar oryginalny pliku: 103\n",
      "Rozmiar skompresowanego pliku: 418\n",
      "Wspolczynnik kompresji: -305.8252427184466\n",
      "Czas kompresji: 0.044270992279052734\n"
     ]
    }
   ],
   "source": [
    "test_dynamic(\"random1kB.txt\")"
   ]
  },
  {
   "cell_type": "code",
   "execution_count": 35,
   "metadata": {},
   "outputs": [
    {
     "name": "stdout",
     "output_type": "stream",
     "text": [
      "Statyczny kod Huffmana\n",
      "------------------------------\n",
      "Rozmiar oryginalny pliku: 10246\n",
      "Rozmiar skompresowanego pliku: 8325\n",
      "Wspolczynnik kompresji: 18.748780011711887\n",
      "Czas kompresji: 0.010044336318969727\n",
      "Czas dekompresji: 0.001997232437133789\n"
     ]
    }
   ],
   "source": [
    "test_static(\"random10kB.txt\")"
   ]
  },
  {
   "cell_type": "code",
   "execution_count": 36,
   "metadata": {},
   "outputs": [
    {
     "name": "stdout",
     "output_type": "stream",
     "text": [
      "Dynamiczny kod Huffmana\n",
      "------------------------------\n",
      "Rozmiar oryginalny pliku: 10246\n",
      "Rozmiar skompresowanego pliku: 8327\n",
      "Wspolczynnik kompresji: 18.729260199102093\n",
      "Czas kompresji: 22.827004194259644\n"
     ]
    }
   ],
   "source": [
    "test_dynamic(\"random10kB.txt\")"
   ]
  },
  {
   "cell_type": "code",
   "execution_count": 37,
   "metadata": {},
   "outputs": [
    {
     "name": "stdout",
     "output_type": "stream",
     "text": [
      "Statyczny kod Huffmana\n",
      "------------------------------\n",
      "Rozmiar oryginalny pliku: 102538\n",
      "Rozmiar skompresowanego pliku: 69465\n",
      "Wspolczynnik kompresji: 32.25438374066199\n",
      "Czas kompresji: 0.03859257698059082\n",
      "Czas dekompresji: 0.0766897201538086\n"
     ]
    }
   ],
   "source": [
    "test_static(\"random100kB.txt\")"
   ]
  },
  {
   "cell_type": "code",
   "execution_count": 38,
   "metadata": {},
   "outputs": [
    {
     "name": "stdout",
     "output_type": "stream",
     "text": [
      "Statyczny kod Huffmana\n",
      "------------------------------\n",
      "Rozmiar oryginalny pliku: 1026958\n",
      "Rozmiar skompresowanego pliku: 681855\n",
      "Wspolczynnik kompresji: 33.604392779451544\n",
      "Czas kompresji: 0.3555150032043457\n",
      "Czas dekompresji: 0.7702476978302002\n"
     ]
    }
   ],
   "source": [
    "test_static(\"random1MB.txt\")"
   ]
  }
 ],
 "metadata": {
  "kernelspec": {
   "display_name": "Python 3",
   "language": "python",
   "name": "python3"
  },
  "language_info": {
   "codemirror_mode": {
    "name": "ipython",
    "version": 3
   },
   "file_extension": ".py",
   "mimetype": "text/x-python",
   "name": "python",
   "nbconvert_exporter": "python",
   "pygments_lexer": "ipython3",
   "version": "3.8.5"
  }
 },
 "nbformat": 4,
 "nbformat_minor": 4
}
