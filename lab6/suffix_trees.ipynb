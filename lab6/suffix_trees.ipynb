{
 "cells": [
  {
   "cell_type": "code",
   "execution_count": 1,
   "metadata": {},
   "outputs": [],
   "source": [
    "import random\n",
    "import string\n",
    "from timeit import default_timer as timer"
   ]
  },
  {
   "cell_type": "markdown",
   "metadata": {},
   "source": [
    "## 1. Zbiór danych wejściowych"
   ]
  },
  {
   "cell_type": "code",
   "execution_count": 2,
   "metadata": {},
   "outputs": [],
   "source": [
    "input_data = [\"bbb$\", \"aabbabd\", \"ababcd\", \"abaababaabaabaabab$\"]\n",
    "input_data"
   ]
  },
  {
   "cell_type": "code",
   "execution_count": 3,
   "metadata": {},
   "outputs": [
    {
     "data": {
      "text/plain": [
       "'V75mkzn41K74lwbCJzc3wPVqHknL9DzKOBaS0qrXlYZ8WmM3zWnG9TiqHkTgma4i5dLCcdW8078kkkww8w1BpNlm0sCs49wDwCI9'"
      ]
     },
     "execution_count": 3,
     "metadata": {},
     "output_type": "execute_result"
    }
   ],
   "source": [
    "random_data = \"\".join(random.choice(string.ascii_letters + string.digits) for _ in range(100))\n",
    "random_data"
   ]
  },
  {
   "cell_type": "code",
   "execution_count": 4,
   "metadata": {},
   "outputs": [],
   "source": [
    "with open(\"1997_714_head.txt\", encoding=\"UTF-8\") as f:\n",
    "    text_data = f.read().replace(\"\\n\", \" \")"
   ]
  },
  {
   "cell_type": "code",
   "execution_count": 5,
   "metadata": {},
   "outputs": [
    {
     "data": {
      "text/plain": [
       "'    Dz.U. z 1998 r. Nr 144, poz. 930                                                                                                                                                                                                     USTAWA                           z dnia 20 listopada 1998 r.                                                  o zryczałtowanym podatku dochodowym od niektórych przychodów                         osiąganych przez osoby fizyczne                                                                           Rozdział 1                                 Przepisy ogólne                                                                             Art. 1. Ustawa reguluje opodatkowanie zryczałtowanym podatkiem dochodowym niektórych przychodów (dochodów) osiąganych przez osoby fizyczne prowadzące pozarolniczą działalność gospodarczą oraz przez osoby duchowne.                                                                             Art. 2. 1. Osoby fizyczne osiągające przychody z pozarolniczej działalności   gospodarczej opłacają zryczałtowany podatek dochodowy w formie:    1) ryczałtu od przychodów ewidencjonowanych,    2) karty podatkowej. 2. Osoby duchowne, prawnie uznanych wyznań, opłacają zryczałtowany podatek   dochodowy od przychodów osób duchownych. 3. Wpływy z podatku dochodowego opłacanego w formie ryczałtu od przychodów   ewidencjonowanych oraz zryczałtowanego podatku dochodowego od przychodów   osób duchownych stanowią dochód budżetu państwa. 4. Wpływy z karty podatkowej stanowią dochody gmin.                                                                             Art. 3. Przychodów (dochodów) opodatkowanych w formach zryczałtowanych nie łączy się z przychodami (dochodami) z innych źródeł podlegającymi opodatkowaniu na podstawie ustawy z dnia 26 lipca 1991 r. o podatku dochodowym od osób fizycznych (Dz. U. z 1993 r. Nr 90, poz. 416 i Nr 134, poz. 646, z 1994 r. Nr 43, poz. 163, Nr 90, poz. 419, Nr 113, poz. 547, Nr 123, poz. 602 i Nr 126, poz. 626, z 1995 r. Nr 5, poz. 25 i Nr 133, poz. 654, z 1996 r. Nr 25, poz. 113, Nr 87, poz. 395, Nr 137, poz. 638, Nr 147, poz. 686 i Nr 156, poz. 776, z 1997 r. Nr 28, poz. 153, Nr 30, poz. 164, Nr 71, poz. 449, Nr 85, poz. 538, Nr 96, poz. 592, Nr 121, poz. 770, Nr 123, poz. 776, Nr 137, poz. 926, Nr 139, poz. 932-934 i Nr 141, poz. 943 i 945 oraz z 1998 r. Nr 66, poz. 430, Nr 74, poz. 471, Nr 108, poz. 685 i Nr 117, poz. 756), zwanej dalej \"ustawą o podatku dochodowym\". '"
      ]
     },
     "execution_count": 5,
     "metadata": {},
     "output_type": "execute_result"
    }
   ],
   "source": [
    "text_data"
   ]
  },
  {
   "cell_type": "code",
   "execution_count": 6,
   "metadata": {},
   "outputs": [],
   "source": [
    "input_data.extend([random_data, text_data])"
   ]
  },
  {
   "cell_type": "markdown",
   "metadata": {},
   "source": [
    "## 2. Upewnienie się, czy każdy łańcuch ma na końcu marker (znak dolara). Jak nie występuje na końcu to należy go dodać. W przypadku jak występuje na innych pozycjach niż koniec, to należy usunąć marker i zamienić dowolnym losowym znakiem (w tekście generowanym losowo) i dodać na końcu marker"
   ]
  },
  {
   "cell_type": "code",
   "execution_count": 7,
   "metadata": {},
   "outputs": [],
   "source": [
    "def modify(data):\n",
    "    marker = '$'\n",
    "    \n",
    "    if not data.endswith(marker):\n",
    "        data += marker\n",
    "\n",
    "    chars = string.ascii_letters + string.digits\n",
    "    chars = chars.replace(\"$\", \"\")\n",
    "    \n",
    "    list_data = list(data)\n",
    "    for i in range(len(data)-1):\n",
    "        if list_data[i] == marker:\n",
    "            list_data[i] = random.choice(chars)\n",
    "    \n",
    "    data = \"\".join(list_data)\n",
    "    return data"
   ]
  },
  {
   "cell_type": "code",
   "execution_count": 8,
   "metadata": {},
   "outputs": [
    {
     "data": {
      "text/plain": [
       "['bbb$',\n",
       " 'aabbabd$',\n",
       " 'ababcd$',\n",
       " 'abaababaabaabaabab$',\n",
       " 'V75mkzn41K74lwbCJzc3wPVqHknL9DzKOBaS0qrXlYZ8WmM3zWnG9TiqHkTgma4i5dLCcdW8078kkkww8w1BpNlm0sCs49wDwCI9$',\n",
       " '    Dz.U. z 1998 r. Nr 144, poz. 930                                                                                                                                                                                                     USTAWA                           z dnia 20 listopada 1998 r.                                                  o zryczałtowanym podatku dochodowym od niektórych przychodów                         osiąganych przez osoby fizyczne                                                                           Rozdział 1                                 Przepisy ogólne                                                                             Art. 1. Ustawa reguluje opodatkowanie zryczałtowanym podatkiem dochodowym niektórych przychodów (dochodów) osiąganych przez osoby fizyczne prowadzące pozarolniczą działalność gospodarczą oraz przez osoby duchowne.                                                                             Art. 2. 1. Osoby fizyczne osiągające przychody z pozarolniczej działalności   gospodarczej opłacają zryczałtowany podatek dochodowy w formie:    1) ryczałtu od przychodów ewidencjonowanych,    2) karty podatkowej. 2. Osoby duchowne, prawnie uznanych wyznań, opłacają zryczałtowany podatek   dochodowy od przychodów osób duchownych. 3. Wpływy z podatku dochodowego opłacanego w formie ryczałtu od przychodów   ewidencjonowanych oraz zryczałtowanego podatku dochodowego od przychodów   osób duchownych stanowią dochód budżetu państwa. 4. Wpływy z karty podatkowej stanowią dochody gmin.                                                                             Art. 3. Przychodów (dochodów) opodatkowanych w formach zryczałtowanych nie łączy się z przychodami (dochodami) z innych źródeł podlegającymi opodatkowaniu na podstawie ustawy z dnia 26 lipca 1991 r. o podatku dochodowym od osób fizycznych (Dz. U. z 1993 r. Nr 90, poz. 416 i Nr 134, poz. 646, z 1994 r. Nr 43, poz. 163, Nr 90, poz. 419, Nr 113, poz. 547, Nr 123, poz. 602 i Nr 126, poz. 626, z 1995 r. Nr 5, poz. 25 i Nr 133, poz. 654, z 1996 r. Nr 25, poz. 113, Nr 87, poz. 395, Nr 137, poz. 638, Nr 147, poz. 686 i Nr 156, poz. 776, z 1997 r. Nr 28, poz. 153, Nr 30, poz. 164, Nr 71, poz. 449, Nr 85, poz. 538, Nr 96, poz. 592, Nr 121, poz. 770, Nr 123, poz. 776, Nr 137, poz. 926, Nr 139, poz. 932-934 i Nr 141, poz. 943 i 945 oraz z 1998 r. Nr 66, poz. 430, Nr 74, poz. 471, Nr 108, poz. 685 i Nr 117, poz. 756), zwanej dalej \"ustawą o podatku dochodowym\". $']"
      ]
     },
     "execution_count": 8,
     "metadata": {},
     "output_type": "execute_result"
    }
   ],
   "source": [
    "for i in range(len(input_data)):\n",
    "    input_data[i] = modify(input_data[i])\n",
    "    \n",
    "input_data"
   ]
  },
  {
   "cell_type": "markdown",
   "metadata": {},
   "source": [
    "## 3. Algorytm konstruujący strukturę trie, która przechowuje wszystkie sufiksy łańcucha danego na wejściu"
   ]
  },
  {
   "cell_type": "code",
   "execution_count": 9,
   "metadata": {},
   "outputs": [],
   "source": [
    "class Trie:\n",
    "    def __init__(self, value):\n",
    "        self.children = {}\n",
    "        self.value = value\n",
    "\n",
    "    def build(self, text, i):\n",
    "        if i != len(text):\n",
    "            i_child = text[i]\n",
    "            if i_child not in self.children:\n",
    "                self.children[i_child] = Trie(i_child)\n",
    "            i_next = i + 1\n",
    "            self.children[i_child].build(text, i_next)\n",
    "\n",
    "    def find(self, text, i):\n",
    "        if i != len(text):\n",
    "            if text[i] in self.children:\n",
    "                i_next = i + 1\n",
    "                i_child = text[i]\n",
    "                return self.children[i_child].find(text, i_next)\n",
    "            return False\n",
    "        return True"
   ]
  },
  {
   "cell_type": "code",
   "execution_count": 10,
   "metadata": {},
   "outputs": [],
   "source": [
    "def trie_match(text, pattern):\n",
    "    n = len(text)\n",
    "    val = None\n",
    "    T = Trie(val)\n",
    "    for i in range(n):\n",
    "        T.build(text, i)\n",
    "    \n",
    "    start_i = 0\n",
    "    result = T.find(pattern, start_i)\n",
    "    return result"
   ]
  },
  {
   "cell_type": "markdown",
   "metadata": {},
   "source": [
    "## 5. Porównanie wyników uzyskanych za pomocą struktury trie z algorytmem wyszukiwania wzorców KMP"
   ]
  },
  {
   "cell_type": "code",
   "execution_count": 11,
   "metadata": {},
   "outputs": [],
   "source": [
    "def get_longest_prefix(str_):\n",
    "    longest = [0 for _ in range(len(str_))]\n",
    "    j = 0\n",
    "    for q in range(1, len(str_)):\n",
    "        while j > 0 and str_[j] != str_[q]:\n",
    "            j = longest[j-1]\n",
    "        if str_[j] == str_[q]:\n",
    "            j += 1\n",
    "        longest[q] = j\n",
    "    return longest\n",
    "\n",
    "def kmp_match(text, pattern, longest_prefix):\n",
    "    n = len(text)\n",
    "    m = len(pattern)\n",
    "    i = 0\n",
    "    j = 0 \n",
    "    result = [] \n",
    "\n",
    "    while i < n:\n",
    "        if text[i] == pattern[j]:\n",
    "            i += 1\n",
    "            j += 1\n",
    "            if j == m:\n",
    "                result.append(i-m)\n",
    "                j = longest_prefix[j-1]\n",
    "        else:\n",
    "            if j > 0:\n",
    "                j = longest_prefix[j-1]\n",
    "            else:\n",
    "                i += 1\n",
    "\n",
    "    if result:\n",
    "        return True\n",
    "    else:\n",
    "        return False"
   ]
  },
  {
   "cell_type": "markdown",
   "metadata": {},
   "source": [
    "Porównanie wyszukiwania za pomocą KMP i struktury Trie:"
   ]
  },
  {
   "cell_type": "markdown",
   "metadata": {},
   "source": [
    "- test 1"
   ]
  },
  {
   "cell_type": "code",
   "execution_count": 12,
   "metadata": {},
   "outputs": [],
   "source": [
    "pattern = \"bb\""
   ]
  },
  {
   "cell_type": "code",
   "execution_count": 13,
   "metadata": {},
   "outputs": [
    {
     "data": {
      "text/plain": [
       "True"
      ]
     },
     "execution_count": 13,
     "metadata": {},
     "output_type": "execute_result"
    }
   ],
   "source": [
    "longest_prefix = get_longest_prefix(input_data[0])\n",
    "kmp_match(input_data[0], pattern, longest_prefix)"
   ]
  },
  {
   "cell_type": "code",
   "execution_count": 14,
   "metadata": {},
   "outputs": [
    {
     "data": {
      "text/plain": [
       "True"
      ]
     },
     "execution_count": 14,
     "metadata": {},
     "output_type": "execute_result"
    }
   ],
   "source": [
    "trie_match(input_data[0], pattern)"
   ]
  },
  {
   "cell_type": "markdown",
   "metadata": {},
   "source": [
    "- test 2"
   ]
  },
  {
   "cell_type": "code",
   "execution_count": 15,
   "metadata": {},
   "outputs": [],
   "source": [
    "pattern = \"b.\""
   ]
  },
  {
   "cell_type": "code",
   "execution_count": 16,
   "metadata": {},
   "outputs": [
    {
     "data": {
      "text/plain": [
       "False"
      ]
     },
     "execution_count": 16,
     "metadata": {},
     "output_type": "execute_result"
    }
   ],
   "source": [
    "longest_prefix = get_longest_prefix(input_data[0])\n",
    "kmp_match(input_data[0], pattern, longest_prefix)"
   ]
  },
  {
   "cell_type": "code",
   "execution_count": 17,
   "metadata": {},
   "outputs": [
    {
     "data": {
      "text/plain": [
       "False"
      ]
     },
     "execution_count": 17,
     "metadata": {},
     "output_type": "execute_result"
    }
   ],
   "source": [
    "trie_match(input_data[0], pattern)"
   ]
  },
  {
   "cell_type": "markdown",
   "metadata": {},
   "source": [
    "- test 3"
   ]
  },
  {
   "cell_type": "code",
   "execution_count": 18,
   "metadata": {},
   "outputs": [],
   "source": [
    "pattern = \"bab\""
   ]
  },
  {
   "cell_type": "code",
   "execution_count": 19,
   "metadata": {},
   "outputs": [
    {
     "data": {
      "text/plain": [
       "True"
      ]
     },
     "execution_count": 19,
     "metadata": {},
     "output_type": "execute_result"
    }
   ],
   "source": [
    "longest_prefix = get_longest_prefix(input_data[1])\n",
    "kmp_match(input_data[1], pattern, longest_prefix)"
   ]
  },
  {
   "cell_type": "code",
   "execution_count": 20,
   "metadata": {},
   "outputs": [
    {
     "data": {
      "text/plain": [
       "True"
      ]
     },
     "execution_count": 20,
     "metadata": {},
     "output_type": "execute_result"
    }
   ],
   "source": [
    "trie_match(input_data[1], pattern)"
   ]
  },
  {
   "cell_type": "markdown",
   "metadata": {},
   "source": [
    "- test 4"
   ]
  },
  {
   "cell_type": "code",
   "execution_count": 21,
   "metadata": {},
   "outputs": [],
   "source": [
    "pattern = \"abaababaabaabaabab\""
   ]
  },
  {
   "cell_type": "code",
   "execution_count": 22,
   "metadata": {},
   "outputs": [
    {
     "data": {
      "text/plain": [
       "True"
      ]
     },
     "execution_count": 22,
     "metadata": {},
     "output_type": "execute_result"
    }
   ],
   "source": [
    "longest_prefix = get_longest_prefix(input_data[3])\n",
    "kmp_match(input_data[3], pattern, longest_prefix)"
   ]
  },
  {
   "cell_type": "code",
   "execution_count": 23,
   "metadata": {},
   "outputs": [
    {
     "data": {
      "text/plain": [
       "True"
      ]
     },
     "execution_count": 23,
     "metadata": {},
     "output_type": "execute_result"
    }
   ],
   "source": [
    "trie_match(input_data[3], pattern)"
   ]
  },
  {
   "cell_type": "markdown",
   "metadata": {},
   "source": [
    "- test 5"
   ]
  },
  {
   "cell_type": "code",
   "execution_count": 24,
   "metadata": {},
   "outputs": [],
   "source": [
    "pattern = \" \""
   ]
  },
  {
   "cell_type": "code",
   "execution_count": 25,
   "metadata": {},
   "outputs": [
    {
     "data": {
      "text/plain": [
       "False"
      ]
     },
     "execution_count": 25,
     "metadata": {},
     "output_type": "execute_result"
    }
   ],
   "source": [
    "longest_prefix = get_longest_prefix(input_data[3])\n",
    "kmp_match(input_data[3], pattern, longest_prefix)"
   ]
  },
  {
   "cell_type": "code",
   "execution_count": 26,
   "metadata": {},
   "outputs": [
    {
     "data": {
      "text/plain": [
       "False"
      ]
     },
     "execution_count": 26,
     "metadata": {},
     "output_type": "execute_result"
    }
   ],
   "source": [
    "trie_match(input_data[3], pattern)"
   ]
  },
  {
   "cell_type": "markdown",
   "metadata": {},
   "source": [
    "- test 6"
   ]
  },
  {
   "cell_type": "code",
   "execution_count": 27,
   "metadata": {},
   "outputs": [],
   "source": [
    "pattern = \"Nr 139,poz. 932-934\""
   ]
  },
  {
   "cell_type": "code",
   "execution_count": 28,
   "metadata": {},
   "outputs": [
    {
     "data": {
      "text/plain": [
       "False"
      ]
     },
     "execution_count": 28,
     "metadata": {},
     "output_type": "execute_result"
    }
   ],
   "source": [
    "longest_prefix = get_longest_prefix(input_data[-1])\n",
    "kmp_match(input_data[-1], pattern, longest_prefix)"
   ]
  },
  {
   "cell_type": "code",
   "execution_count": 29,
   "metadata": {},
   "outputs": [
    {
     "data": {
      "text/plain": [
       "False"
      ]
     },
     "execution_count": 29,
     "metadata": {},
     "output_type": "execute_result"
    }
   ],
   "source": [
    "trie_match(input_data[-1], pattern)"
   ]
  },
  {
   "cell_type": "markdown",
   "metadata": {},
   "source": [
    "## 6. Testy czasowe"
   ]
  },
  {
   "cell_type": "code",
   "execution_count": 30,
   "metadata": {},
   "outputs": [],
   "source": [
    "def test_kmp_match(text, pattern):\n",
    "    start = timer()\n",
    "    longest_prefix = get_longest_prefix(pattern)\n",
    "    kmp_match(text, pattern, longest_prefix)\n",
    "    end = timer()\n",
    "    \n",
    "    return end-start"
   ]
  },
  {
   "cell_type": "code",
   "execution_count": 31,
   "metadata": {},
   "outputs": [],
   "source": [
    "def test_trie_match(text, pattern):\n",
    "    start = timer()\n",
    "    trie_match(text, pattern)\n",
    "    end = timer()\n",
    "    \n",
    "    return end-start"
   ]
  },
  {
   "cell_type": "code",
   "execution_count": 32,
   "metadata": {},
   "outputs": [],
   "source": [
    "def time_tests():\n",
    "    tests = [\"bb\", \n",
    "             \"abb\", \n",
    "             \"ababcd\", \n",
    "             \"ababaa\", \n",
    "             input_data[4][10:40],\n",
    "             \"Przychodów (dochodów) opodatkowanych w formach zryczałtowanych nie łączy się zprzychodami (dochodami) z innych źródeł\"]\n",
    "    \n",
    "    for i in range(len(input_data)):\n",
    "        t_kmp = test_kmp_match(input_data[i], tests[i])\n",
    "        t_trie = test_trie_match(input_data[i], tests[i])\n",
    "        print(\"-\"*40)\n",
    "        print(f\"Test dla danych wejściowych nr {i+1}\")\n",
    "        print(f\"Algorytm KMP: {t_kmp} [s]\")\n",
    "        print(f\"Trie: {t_trie} [s]\")"
   ]
  },
  {
   "cell_type": "code",
   "execution_count": 33,
   "metadata": {},
   "outputs": [
    {
     "name": "stdout",
     "output_type": "stream",
     "text": [
      "----------------------------------------\n",
      "Test dla danych wejściowych nr 1\n",
      "Algorytm KMP: 6.100000000230921e-06 [s]\n",
      "Trie: 1.330000000088205e-05 [s]\n",
      "----------------------------------------\n",
      "Test dla danych wejściowych nr 2\n",
      "Algorytm KMP: 6.899999998921658e-06 [s]\n",
      "Trie: 3.200000000092018e-05 [s]\n",
      "----------------------------------------\n",
      "Test dla danych wejściowych nr 3\n",
      "Algorytm KMP: 6.000000000838668e-06 [s]\n",
      "Trie: 2.360000000045659e-05 [s]\n",
      "----------------------------------------\n",
      "Test dla danych wejściowych nr 4\n",
      "Algorytm KMP: 8.800000001585317e-06 [s]\n",
      "Trie: 0.00016650000000062448 [s]\n",
      "----------------------------------------\n",
      "Test dla danych wejściowych nr 5\n",
      "Algorytm KMP: 2.86000000002673e-05 [s]\n",
      "Trie: 0.0044621999999989725 [s]\n",
      "----------------------------------------\n",
      "Test dla danych wejściowych nr 6\n",
      "Algorytm KMP: 0.0005379999999988172 [s]\n",
      "Trie: 10.461276 [s]\n"
     ]
    }
   ],
   "source": [
    "time_tests()"
   ]
  },
  {
   "cell_type": "markdown",
   "metadata": {},
   "source": [
    "## 7. Wnioski"
   ]
  },
  {
   "cell_type": "markdown",
   "metadata": {},
   "source": [
    "W testach czasowych widoczna jest znacząca różnica pomiędzy algorytmem bazującym na Trie oraz KMP.\n",
    "Pierwszy z nich jest nawet o kilka rzędów wielkości wolniejszy od KMP ze względu na to, że budowa struktury Trie dla dużych tekstów jest bardzo kosztowna obliczeniowo i pamięciowo. Spowodowane jest to między innymi tym, że konstrukcja struktury Trie wymaga iteracji po każdym znaku w tekście i dodawania odpowiednich węzłów."
   ]
  }
 ],
 "metadata": {
  "kernelspec": {
   "display_name": "Python 3",
   "language": "python",
   "name": "python3"
  },
  "language_info": {
   "codemirror_mode": {
    "name": "ipython",
    "version": 3
   },
   "file_extension": ".py",
   "mimetype": "text/x-python",
   "name": "python",
   "nbconvert_exporter": "python",
   "pygments_lexer": "ipython3",
   "version": "3.8.5"
  }
 },
 "nbformat": 4,
 "nbformat_minor": 4
}
